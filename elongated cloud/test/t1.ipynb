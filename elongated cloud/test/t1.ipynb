{
 "cells": [
  {
   "cell_type": "code",
   "execution_count": 1,
   "id": "9aab4eb8-4599-4458-84ae-d5fc32059a40",
   "metadata": {},
   "outputs": [],
   "source": [
    "import numpy as np\n",
    "import netCDF4\n",
    "import matplotlib.pyplot as plt"
   ]
  },
  {
   "cell_type": "code",
   "execution_count": 5,
   "id": "129ed338-60da-408b-a6cd-19818dc5d6d4",
   "metadata": {},
   "outputs": [],
   "source": [
    "with open('../megt90n000fb.img') as f:\n",
    "    topography = np.fromfile(f)"
   ]
  },
  {
   "cell_type": "code",
   "execution_count": 9,
   "id": "6f1b6044-07f9-4b6b-9c04-efaa8c8573f9",
   "metadata": {},
   "outputs": [
    {
     "data": {
      "text/plain": [
       "16588800"
      ]
     },
     "execution_count": 9,
     "metadata": {},
     "output_type": "execute_result"
    }
   ],
   "source": [
    "topography.shape[0]"
   ]
  },
  {
   "cell_type": "code",
   "execution_count": 11,
   "id": "90c2aa44-7b2c-4534-a2e8-001df8532d03",
   "metadata": {},
   "outputs": [],
   "source": [
    "topography = topography.reshape((360 * 8, 5760))"
   ]
  },
  {
   "cell_type": "code",
   "execution_count": 16,
   "id": "31a929d0-e3b5-470c-9c0c-5b466f9b424f",
   "metadata": {},
   "outputs": [
    {
     "data": {
      "text/plain": [
       "<matplotlib.image.AxesImage at 0x1a3c2b7c790>"
      ]
     },
     "execution_count": 16,
     "metadata": {},
     "output_type": "execute_result"
    },
    {
     "data": {
      "image/png": "[encoded data removed]",
      "text/plain": [
       "<Figure size 432x288 with 1 Axes>"
      ]
     },
     "metadata": {
      "needs_background": "light"
     },
     "output_type": "display_data"
    }
   ],
   "source": [
    "plt.imshow(topography[::-1])"
   ]
  },
  {
   "cell_type": "code",
   "execution_count": null,
   "id": "bba2d1c8-08bc-4925-8fa1-cd8cda03efb1",
   "metadata": {},
   "outputs": [],
   "source": []
  }
 ],
 "metadata": {
  "kernelspec": {
   "display_name": "Python 3 (ipykernel)",
   "language": "python",
   "name": "python3"
  },
  "language_info": {
   "codemirror_mode": {
    "name": "ipython",
    "version": 3
   },
   "file_extension": ".py",
   "mimetype": "text/x-python",
   "name": "python",
   "nbconvert_exporter": "python",
   "pygments_lexer": "ipython3",
   "version": "3.9.7"
  }
 },
 "nbformat": 4,
 "nbformat_minor": 5
}
